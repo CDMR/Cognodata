{
 "cells": [
  {
   "cell_type": "markdown",
   "metadata": {},
   "source": [
    "# EXAMEN PYTHON"
   ]
  },
  {
   "cell_type": "markdown",
   "metadata": {},
   "source": [
    "El proposito de este examen es comprobar si el candidato posee conocimientos de Python (básico y aplicados a ML). Desde Python 3, aconsejamos usar las siguientes librerias (salvo que se indique lo contrario): **numpy, pandas, matplotlib.pyplot y sklearn**"
   ]
  },
  {
   "cell_type": "markdown",
   "metadata": {},
   "source": [
    "# BLOQUE 1 CONOCIMIENTOS GENERALES DE PYTHON"
   ]
  },
  {
   "cell_type": "markdown",
   "metadata": {},
   "source": [
    "### 1.1: crea una funcion a la cual le pases por parametros el numero de filas y el numero de columnas y te la rellene con numeros aleatorios del 1 al 100 con 2 decimales. \n",
    "Crea una matriz de 10 filas y 7 columnas. <font color=\"#9E1B32\">**(No utilices NUMPY ni PANDAS en este apartado, en los demás puedes usarlo)**</font>"
   ]
  },
  {
   "cell_type": "code",
   "execution_count": null,
   "metadata": {},
   "outputs": [],
   "source": []
  },
  {
   "cell_type": "markdown",
   "metadata": {},
   "source": [
    "### 1.2: A partir de la matriz anterior crea un dataframe de PANDAS, poniendo como nombre de columnas los días de la semana\n",
    "Si no pudiste crear la matriz del apartado anterior, puedes crear una a partir de NUMPY"
   ]
  },
  {
   "cell_type": "code",
   "execution_count": null,
   "metadata": {},
   "outputs": [],
   "source": []
  },
  {
   "cell_type": "markdown",
   "metadata": {},
   "source": [
    "### 1.3: Como crearías una estructura de datos si el tipo de dato no fuera uniforme (mismo tipo de dato)?\n",
    "Crea una estructura cuyo primer elemento sea un vector de NUMPY de 10 números aleatorios entre 1 y 100\n",
    "Y el segundo elemento un vector con esos mismos valores pero como caracteres."
   ]
  },
  {
   "cell_type": "code",
   "execution_count": null,
   "metadata": {},
   "outputs": [],
   "source": []
  },
  {
   "cell_type": "markdown",
   "metadata": {},
   "source": [
    "### 1.4: normaliza todos los elementos de la primera matriz. \n",
    "Esto es, por cada elemento resta la media y divide por la desviacion tipica del conjunto."
   ]
  },
  {
   "cell_type": "code",
   "execution_count": null,
   "metadata": {},
   "outputs": [],
   "source": []
  },
  {
   "cell_type": "markdown",
   "metadata": {},
   "source": [
    "### 1.5: Filtra la matriz normalizada y devuelve los valores entre -1 y 1, sin usar un bucle\n",
    "El resultado debe ser un vector con dichos valores ordenados descendentemente"
   ]
  },
  {
   "cell_type": "code",
   "execution_count": null,
   "metadata": {},
   "outputs": [],
   "source": []
  },
  {
   "cell_type": "markdown",
   "metadata": {},
   "source": [
    "# BLOQUE 2: CREAR HISTOGRAMA Y DIAGRAMA DE BARRAS"
   ]
  },
  {
   "cell_type": "markdown",
   "metadata": {},
   "source": [
    "### 2.1 Crea un vector de números enteros aleatorios entre el 1 y el 10, de tamaño 100. Crea otro vector de números aleatorios entre el 11 y el 20 del mismo tamaño. \n",
    "Muestra por pantalla la tabla de frecuencia de la unión de los 2 vectores para los valores **5,6 y 8 (de la primera)** y para los valores **14,16,19 (de la segunda).**"
   ]
  },
  {
   "cell_type": "code",
   "execution_count": null,
   "metadata": {},
   "outputs": [],
   "source": []
  },
  {
   "cell_type": "markdown",
   "metadata": {},
   "source": [
    "### 2.2 crea el histograma para dicho vector de frecuencias \n",
    "Con ancho de barra **0.75**, título: **histograma** y color de barra **azul**. Poner un título al **eje x** para diferenciar que son los números que se van a repetir."
   ]
  },
  {
   "cell_type": "code",
   "execution_count": null,
   "metadata": {},
   "outputs": [],
   "source": []
  },
  {
   "cell_type": "markdown",
   "metadata": {},
   "source": [
    "### 2.3 crea un diagrama de barras para el vector fusionado con los 3 elementos más repetidos, sin contar la moda."
   ]
  },
  {
   "cell_type": "code",
   "execution_count": null,
   "metadata": {},
   "outputs": [],
   "source": []
  },
  {
   "cell_type": "markdown",
   "metadata": {},
   "source": [
    "# BLOQUE 3: CARGA DE FICHEROS Y MODELIZACION.\n",
    "\n",
    "Tenemos un fichero llamado **data_examen_sanit** del cual queremos realizar una modelizacion mediante un **arbol de decisión** y una **regresión logística**.\n",
    "La columna objetivo de la tabla se llama <font color=\"#9E1B32\">**target**</font>, y el resto de columnas actuan como input para predecir el Target"
   ]
  },
  {
   "cell_type": "markdown",
   "metadata": {},
   "source": [
    "### 3.1 Cargue dicho fichero y prepara los datos para la modelización. Con una proporcion 70-30 para los conjuntos train y test. Obtén los estadisticos más importantes para las variables del conjunto de datos"
   ]
  },
  {
   "cell_type": "code",
   "execution_count": null,
   "metadata": {},
   "outputs": [],
   "source": []
  },
  {
   "cell_type": "markdown",
   "metadata": {},
   "source": [
    "### 3.2 Entrene y evalue los modelos. Arbol y reg. logística"
   ]
  },
  {
   "cell_type": "code",
   "execution_count": null,
   "metadata": {},
   "outputs": [],
   "source": []
  },
  {
   "cell_type": "markdown",
   "metadata": {},
   "source": [
    "### 3.3 Proponga un método para comparar ambos modelos (ej: Curva ROC)"
   ]
  },
  {
   "cell_type": "code",
   "execution_count": null,
   "metadata": {},
   "outputs": [],
   "source": []
  }
 ],
 "metadata": {
  "kernelspec": {
   "display_name": "Python 3",
   "language": "python",
   "name": "python3"
  },
  "language_info": {
   "codemirror_mode": {
    "name": "ipython",
    "version": 3
   },
   "file_extension": ".py",
   "mimetype": "text/x-python",
   "name": "python",
   "nbconvert_exporter": "python",
   "pygments_lexer": "ipython3",
   "version": "3.7.3"
  }
 },
 "nbformat": 4,
 "nbformat_minor": 2
}
