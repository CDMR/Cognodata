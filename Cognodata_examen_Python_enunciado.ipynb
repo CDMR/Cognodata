{
 "cells": [
  {
   "cell_type": "markdown",
   "metadata": {},
   "source": [
    "# EXAMEN PYTHON"
   ]
  },
  {
   "cell_type": "markdown",
   "metadata": {},
   "source": [
    "El proposito de este examen es comprobar si el candidato posee conocimientos de Python (básico y aplicados a ML). Desde Python 3, aconsejamos usar las siguientes librerias (salvo que se indique lo contrario): **numpy, pandas, matplotlib.pyplot y sklearn**"
   ]
  },
  {
   "cell_type": "markdown",
   "metadata": {},
   "source": [
    "# BLOQUE 1 CONOCIMIENTOS GENERALES DE PYTHON"
   ]
  },
  {
   "cell_type": "markdown",
   "metadata": {},
   "source": [
    "### 1.1: crea una funcion a la cual le pases por parametros el numero de filas y el numero de columnas y te la rellene con numeros aleatorios del 1 al 100 con 2 decimales. \n",
    "Crea una matriz de 10 filas y 7 columnas. <font color=\"#9E1B32\">**(No utilices NUMPY ni PANDAS en este apartado, en los demás puedes usarlo)**</font>"
   ]
  },
  {
   "cell_type": "code",
   "execution_count": 23,
   "metadata": {},
   "outputs": [
    {
     "output_type": "stream",
     "name": "stdout",
     "text": [
      "6.5\t28.92\t10.4\t53.74\t80.33\t44.41\t92.23\t\n\n12.91\t7.33\t55.16\t61.46\t30.29\t32.75\t9.15\t\n\n35.64\t16.22\t99.14\t82.1\t33.59\t99.19\t29.55\t\n\n83.4\t35.59\t48.98\t49.45\t50.02\t80.05\t53.04\t\n\n81.89\t72.25\t58.44\t53.52\t80.12\t38.03\t59.96\t\n\n32.55\t61.46\t37.05\t64.21\t54.08\t12.17\t78.42\t\n\n15.16\t11.98\t70.73\t30.16\t27.06\t70.54\t84.37\t\n\n82.45\t20.42\t16.79\t62.39\t89.16\t78.55\t2.21\t\n\n59.88\t11.72\t30.95\t38.82\t11.27\t23.64\t11.77\t\n\n15.98\t36.82\t83.47\t27.87\t20.5\t72.45\t26.71\t\n\n"
     ]
    }
   ],
   "source": [
    "import random\n",
    "matriz=[]\n",
    "filas = 10#int(input(\"Introduce numero de filas: \"))\n",
    "columnas= 7#int(input(\"Introduce numero de columnas: \"))   \n",
    "for i in range(filas):\n",
    "    for j in range(columnas):\n",
    "        matriz.append([0]*columnas)\n",
    "    \n",
    "for i in range(filas):\n",
    "    for j in range(columnas):\n",
    "        matriz[i][j]= round(random.uniform(1,100),2)\n",
    "    \n",
    "for i in range(filas):\n",
    "    for j in range(columnas):\n",
    "        print(matriz[i][j],end=\"\\t\")\n",
    "    print('\\n')"
   ]
  },
  {
   "cell_type": "markdown",
   "metadata": {},
   "source": [
    "### 1.2: A partir de la matriz anterior crea un dataframe de PANDAS, poniendo como nombre de columnas los días de la semana\n",
    "Si no pudiste crear la matriz del apartado anterior, puedes crear una a partir de NUMPY"
   ]
  },
  {
   "cell_type": "code",
   "execution_count": 18,
   "metadata": {},
   "outputs": [
    {
     "output_type": "stream",
     "name": "stdout",
     "text": [
      "[[86.45, 58.54, 40.0, 71.53, 98.69, 3.66, 65.34], [30.64, 7.85, 46.65, 13.34, 43.02, 22.66, 68.97], [30.95, 16.03, 19.29, 63.52, 69.25, 81.07, 40.77], [29.3, 65.67, 94.64, 75.93, 97.13, 13.35, 13.27], [22.5, 13.84, 71.39, 70.32, 67.79, 47.84, 65.87], [71.58, 93.88, 68.16, 78.98, 87.11, 80.26, 69.92], [15.61, 57.5, 8.64, 12.0, 60.78, 30.4, 10.35], [70.44, 46.29, 23.03, 50.44, 93.08, 78.71, 5.16], [68.32, 49.92, 31.92, 79.58, 22.81, 95.9, 99.05], [4.61, 25.17, 21.09, 40.24, 10.15, 92.18, 91.99]]\n",
      "   lunes  martes  miercoles  jueves  viernes  sabado  domingo\n",
      "0  86.45   58.54      40.00   71.53    98.69    3.66    65.34\n",
      "1  30.64    7.85      46.65   13.34    43.02   22.66    68.97\n",
      "2  30.95   16.03      19.29   63.52    69.25   81.07    40.77\n",
      "3  29.30   65.67      94.64   75.93    97.13   13.35    13.27\n",
      "4  22.50   13.84      71.39   70.32    67.79   47.84    65.87\n",
      "5  71.58   93.88      68.16   78.98    87.11   80.26    69.92\n",
      "6  15.61   57.50       8.64   12.00    60.78   30.40    10.35\n",
      "7  70.44   46.29      23.03   50.44    93.08   78.71     5.16\n",
      "8  68.32   49.92      31.92   79.58    22.81   95.90    99.05\n",
      "9   4.61   25.17      21.09   40.24    10.15   92.18    91.99\n"
     ]
    }
   ],
   "source": [
    "import random\n",
    "import pandas as pd\n",
    "import numpy as nd\n",
    "matriz=[]\n",
    "filas = 10\n",
    "columnas= 7   \n",
    "    \n",
    "for i in range(filas):\n",
    "    matriz.append([0]*columnas)\n",
    "    for j in range(columnas):\n",
    "        matriz[i][j]= round(random.uniform(1,100),2)\n",
    "\n",
    "dias=['lunes','martes','miercoles','jueves','viernes','sabado','domingo']\n",
    "df= pd.DataFrame(data=matriz, columns=dias)\n",
    "print(matriz)\n",
    "print(df)"
   ]
  },
  {
   "cell_type": "markdown",
   "metadata": {},
   "source": [
    "### 1.3: Como crearías una estructura de datos si el tipo de dato no fuera uniforme (mismo tipo de dato)?\n",
    "Crea una estructura cuyo primer elemento sea un vector de NUMPY de 10 números aleatorios entre 1 y 100\n",
    "Y el segundo elemento un vector con esos mismos valores pero como caracteres."
   ]
  },
  {
   "cell_type": "code",
   "execution_count": 17,
   "metadata": {},
   "outputs": [
    {
     "output_type": "stream",
     "name": "stdout",
     "text": [
      "(array([72.34, 36.63, 28.35, 86.8 , 10.82, 45.84, 11.82, 53.76, 66.04,\n        9.79]), '[72.34 36.63 28.35 86.8  10.82 45.84 11.82 53.76 66.04  9.79]')\n"
     ]
    }
   ],
   "source": [
    "import random\n",
    "import numpy as np\n",
    "vector=[]\n",
    "for j in range(10):\n",
    "        vector.append([0]*10)\n",
    "        vector[j]= round(random.uniform(1,100),2)\n",
    "numeros=np.array(vector)\n",
    "caracter=str(numeros)\n",
    "estructura=[numeros,caracter]\n",
    "print(estructura)"
   ]
  },
  {
   "cell_type": "markdown",
   "metadata": {},
   "source": [
    "### 1.4: normaliza todos los elementos de la primera matriz. \n",
    "Esto es, por cada elemento resta la media y divide por la desviacion tipica del conjunto."
   ]
  },
  {
   "cell_type": "code",
   "execution_count": 15,
   "metadata": {},
   "outputs": [
    {
     "output_type": "stream",
     "name": "stdout",
     "text": [
      "[46.89 70.71 90.94 17.88 52.83  1.95 57.92 95.61 72.49 13.27] [-0.1680975734952218, 0.6080381506094852, 1.2671995989150362, -1.1133409553708538, 0.02544760707496958, -1.6323939396272762, 0.191296928472659, 1.4193639075451363, 0.6660365380530779, -1.2635502621770125]\n"
     ]
    }
   ],
   "source": [
    "import random\n",
    "import numpy as np\n",
    "vector=[]\n",
    "normalizado=[]\n",
    "for j in range(10):\n",
    "        vector.append([0]*10)\n",
    "        vector[j]= round(random.uniform(1,100),2)\n",
    "numeros=np.array(vector)\n",
    "media=np.mean(numeros)\n",
    "desviacion=np.std(numeros)\n",
    "caracter=str(numeros)\n",
    "\n",
    "for j in range(10):\n",
    "        normalizado.append([0]*10)\n",
    "        normalizado[j]= (vector[j]-media)/desviacion\n",
    "estructura=[numeros,caracter]\n",
    "print(numeros,normalizado)"
   ]
  },
  {
   "cell_type": "markdown",
   "metadata": {},
   "source": [
    "### 1.5: Filtra la matriz normalizada y devuelve los valores entre -1 y 1, sin usar un bucle\n",
    "El resultado debe ser un vector con dichos valores ordenados descendentemente"
   ]
  },
  {
   "cell_type": "code",
   "execution_count": 1,
   "metadata": {},
   "outputs": [
    {
     "output_type": "stream",
     "name": "stdout",
     "text": [
      "[ 3.87 72.63 13.97 11.93 49.59 85.46 88.74  7.3  40.73 23.21] [-1.15057887  1.05480688 -0.82663477 -0.89206507  0.31582946  1.46631211\n  1.57151375 -1.04056617  0.03165672 -0.53027403]\n[-0.8920650658674639, -0.8266347730414608, -0.530274034947211, 0.031656715205521956, 0.31582945757728104]\n"
     ]
    }
   ],
   "source": [
    "import random\n",
    "import numpy as np\n",
    "from numpy.core.numeric import normalize_axis_tuple\n",
    "vector=[]\n",
    "normal=[]\n",
    "for j in range(10):\n",
    "        vector.append([0]*10)\n",
    "        vector[j]= round(random.uniform(1,100),2)\n",
    "numeros=np.array(vector)\n",
    "media=np.mean(numeros)\n",
    "desviacion=np.std(numeros)\n",
    "caracter=str(numeros)\n",
    "\n",
    "for j in range(10):\n",
    "        normal.append([0]*10)\n",
    "        normal[j]= (vector[j]-media)/desviacion\n",
    "normalizado=np.array(normal)\n",
    "print(numeros,normalizado)\n",
    "selecval=normalizado[np.where((normalizado <= 1) & (normalizado >= -1))]\n",
    "estructura=[numeros,caracter]\n",
    "print(sorted(selecval))"
   ]
  },
  {
   "cell_type": "markdown",
   "metadata": {},
   "source": [
    "# BLOQUE 2: CREAR HISTOGRAMA Y DIAGRAMA DE BARRAS"
   ]
  },
  {
   "cell_type": "markdown",
   "metadata": {},
   "source": [
    "### 2.1 Crea un vector de números enteros aleatorios entre el 1 y el 10, de tamaño 100. Crea otro vector de números aleatorios entre el 11 y el 20 del mismo tamaño. \n",
    "Muestra por pantalla la tabla de frecuencia de la unión de los 2 vectores para los valores **5,6 y 8 (de la primera)** y para los valores **14,16,19 (de la segunda).**"
   ]
  },
  {
   "cell_type": "code",
   "execution_count": 14,
   "metadata": {},
   "outputs": [
    {
     "output_type": "stream",
     "name": "stdout",
     "text": [
      "[5, 6, 8, 14, 66, 19] [10, 7, 14, 12, 0, 5]\n"
     ]
    }
   ],
   "source": [
    "import random\n",
    "import numpy as np\n",
    "import pandas as pd\n",
    "\n",
    "arreglo1=np.random.randint(1,11,(1,100))\n",
    "arreglo2=np.random.randint(11,21,(1,100))\n",
    "ncontados1=[5,6,8]\n",
    "ncontados2=[14,66,19]\n",
    "frec1=[]\n",
    "frec2=[]\n",
    "for i in range (len(ncontados1)):\n",
    "    frec1.append([0]*len(ncontados1))\n",
    "    frec1[i]=np.count_nonzero(arreglo1==ncontados1[i])\n",
    "for i in range (len(ncontados2)):\n",
    "    frec2.append([0]*(len(ncontados2)))\n",
    "    frec2[i]=np.count_nonzero(arreglo2==ncontados2[i])\n",
    "ncontados=ncontados1 + ncontados2\n",
    "frecuencia=frec1 + frec2\n",
    "print (ncontados,frecuencia)"
   ]
  },
  {
   "cell_type": "markdown",
   "metadata": {},
   "source": [
    "### 2.2 crea el histograma para dicho vector de frecuencias \n",
    "Con ancho de barra **0.75**, título: **histograma** y color de barra **azul**. Poner un título al **eje x** para diferenciar que son los números que se van a repetir."
   ]
  },
  {
   "cell_type": "code",
   "execution_count": 25,
   "metadata": {},
   "outputs": [
    {
     "output_type": "stream",
     "name": "stdout",
     "text": [
      "[5, 6, 8, 14, 66, 19] [10, 12, 8, 10, 0, 12]\n"
     ]
    },
    {
     "output_type": "execute_result",
     "data": {
      "text/plain": [
       "Text(0.5, 0.98, 'Categorical Plotting')"
      ]
     },
     "metadata": {},
     "execution_count": 25
    },
    {
     "output_type": "display_data",
     "data": {
      "text/plain": "<Figure size 648x216 with 3 Axes>",
      "image/svg+xml": "<?xml version=\"1.0\" encoding=\"utf-8\" standalone=\"no\"?>\n<!DOCTYPE svg PUBLIC \"-//W3C//DTD SVG 1.1//EN\"\n  \"http://www.w3.org/Graphics/SVG/1.1/DTD/svg11.dtd\">\n<!-- Created with matplotlib (https://matplotlib.org/) -->\n<svg height=\"215.758125pt\" version=\"1.1\" viewBox=\"0 0 540.336096 215.758125\" width=\"540.336096pt\" xmlns=\"http://www.w3.org/2000/svg\" xmlns:xlink=\"http://www.w3.org/1999/xlink\">\n <metadata>\n  <rdf:RDF xmlns:cc=\"http://creativecommons.org/ns#\" xmlns:dc=\"http://purl.org/dc/elements/1.1/\" xmlns:rdf=\"http://www.w3.org/1999/02/22-rdf-syntax-ns#\">\n   <cc:Work>\n    <dc:type rdf:resource=\"http://purl.org/dc/dcmitype/StillImage\"/>\n    <dc:date>2021-06-24T02:57:29.372452</dc:date>\n    <dc:format>image/svg+xml</dc:format>\n    <dc:creator>\n     <cc:Agent>\n      <dc:title>Matplotlib v3.3.4, https://matplotlib.org/</dc:title>\n     </cc:Agent>\n    </dc:creator>\n   </cc:Work>\n  </rdf:RDF>\n </metadata>\n <defs>\n  <style type=\"text/css\">*{stroke-linecap:butt;stroke-linejoin:round;}</style>\n </defs>\n <g id=\"figure_1\">\n  <g id=\"patch_1\">\n   <path d=\"M 0 215.758125 \nL 540.336096 215.758125 \nL 540.336096 -0 \nL 0 -0 \nz\n\" style=\"fill:none;\"/>\n  </g>\n  <g id=\"axes_1\">\n   <g id=\"patch_2\">\n    <path d=\"M 26.925 191.88 \nL 174.630882 191.88 \nL 174.630882 28.8 \nL 26.925 28.8 \nz\n\" style=\"fill:#ffffff;\"/>\n   </g>\n   <g id=\"patch_3\">\n    <path clip-path=\"url(#pf223cd6ddd)\" d=\"M 33.638904 191.88 \nL 61.907972 191.88 \nL 61.907972 114.222857 \nL 33.638904 114.222857 \nz\n\" style=\"fill:#1f77b4;\"/>\n   </g>\n   <g id=\"patch_4\">\n    <path clip-path=\"url(#pf223cd6ddd)\" d=\"M 68.975239 191.88 \nL 97.244308 191.88 \nL 97.244308 75.394286 \nL 68.975239 75.394286 \nz\n\" style=\"fill:#1f77b4;\"/>\n   </g>\n   <g id=\"patch_5\">\n    <path clip-path=\"url(#pf223cd6ddd)\" d=\"M 104.311575 191.88 \nL 132.580643 191.88 \nL 132.580643 153.051429 \nL 104.311575 153.051429 \nz\n\" style=\"fill:#1f77b4;\"/>\n   </g>\n   <g id=\"patch_6\">\n    <path clip-path=\"url(#pf223cd6ddd)\" d=\"M 139.64791 191.88 \nL 167.916979 191.88 \nL 167.916979 36.565714 \nL 139.64791 36.565714 \nz\n\" style=\"fill:#1f77b4;\"/>\n   </g>\n   <g id=\"matplotlib.axis_1\">\n    <g id=\"xtick_1\">\n     <g id=\"line2d_1\">\n      <defs>\n       <path d=\"M 0 0 \nL 0 3.5 \n\" id=\"mc09e12a0eb\" style=\"stroke:#000000;stroke-width:0.8;\"/>\n      </defs>\n      <g>\n       <use style=\"stroke:#000000;stroke-width:0.8;\" x=\"47.773438\" xlink:href=\"#mc09e12a0eb\" y=\"191.88\"/>\n      </g>\n     </g>\n     <g id=\"text_1\">\n      <!-- apple -->\n      <g transform=\"translate(33.895313 206.478438)scale(0.1 -0.1)\">\n       <defs>\n        <path d=\"M 34.28125 27.484375 \nQ 23.390625 27.484375 19.1875 25 \nQ 14.984375 22.515625 14.984375 16.5 \nQ 14.984375 11.71875 18.140625 8.90625 \nQ 21.296875 6.109375 26.703125 6.109375 \nQ 34.1875 6.109375 38.703125 11.40625 \nQ 43.21875 16.703125 43.21875 25.484375 \nL 43.21875 27.484375 \nz\nM 52.203125 31.203125 \nL 52.203125 0 \nL 43.21875 0 \nL 43.21875 8.296875 \nQ 40.140625 3.328125 35.546875 0.953125 \nQ 30.953125 -1.421875 24.3125 -1.421875 \nQ 15.921875 -1.421875 10.953125 3.296875 \nQ 6 8.015625 6 15.921875 \nQ 6 25.140625 12.171875 29.828125 \nQ 18.359375 34.515625 30.609375 34.515625 \nL 43.21875 34.515625 \nL 43.21875 35.40625 \nQ 43.21875 41.609375 39.140625 45 \nQ 35.0625 48.390625 27.6875 48.390625 \nQ 23 48.390625 18.546875 47.265625 \nQ 14.109375 46.140625 10.015625 43.890625 \nL 10.015625 52.203125 \nQ 14.9375 54.109375 19.578125 55.046875 \nQ 24.21875 56 28.609375 56 \nQ 40.484375 56 46.34375 49.84375 \nQ 52.203125 43.703125 52.203125 31.203125 \nz\n\" id=\"DejaVuSans-97\"/>\n        <path d=\"M 18.109375 8.203125 \nL 18.109375 -20.796875 \nL 9.078125 -20.796875 \nL 9.078125 54.6875 \nL 18.109375 54.6875 \nL 18.109375 46.390625 \nQ 20.953125 51.265625 25.265625 53.625 \nQ 29.59375 56 35.59375 56 \nQ 45.5625 56 51.78125 48.09375 \nQ 58.015625 40.1875 58.015625 27.296875 \nQ 58.015625 14.40625 51.78125 6.484375 \nQ 45.5625 -1.421875 35.59375 -1.421875 \nQ 29.59375 -1.421875 25.265625 0.953125 \nQ 20.953125 3.328125 18.109375 8.203125 \nz\nM 48.6875 27.296875 \nQ 48.6875 37.203125 44.609375 42.84375 \nQ 40.53125 48.484375 33.40625 48.484375 \nQ 26.265625 48.484375 22.1875 42.84375 \nQ 18.109375 37.203125 18.109375 27.296875 \nQ 18.109375 17.390625 22.1875 11.75 \nQ 26.265625 6.109375 33.40625 6.109375 \nQ 40.53125 6.109375 44.609375 11.75 \nQ 48.6875 17.390625 48.6875 27.296875 \nz\n\" id=\"DejaVuSans-112\"/>\n        <path d=\"M 9.421875 75.984375 \nL 18.40625 75.984375 \nL 18.40625 0 \nL 9.421875 0 \nz\n\" id=\"DejaVuSans-108\"/>\n        <path d=\"M 56.203125 29.59375 \nL 56.203125 25.203125 \nL 14.890625 25.203125 \nQ 15.484375 15.921875 20.484375 11.0625 \nQ 25.484375 6.203125 34.421875 6.203125 \nQ 39.59375 6.203125 44.453125 7.46875 \nQ 49.3125 8.734375 54.109375 11.28125 \nL 54.109375 2.78125 \nQ 49.265625 0.734375 44.1875 -0.34375 \nQ 39.109375 -1.421875 33.890625 -1.421875 \nQ 20.796875 -1.421875 13.15625 6.1875 \nQ 5.515625 13.8125 5.515625 26.8125 \nQ 5.515625 40.234375 12.765625 48.109375 \nQ 20.015625 56 32.328125 56 \nQ 43.359375 56 49.78125 48.890625 \nQ 56.203125 41.796875 56.203125 29.59375 \nz\nM 47.21875 32.234375 \nQ 47.125 39.59375 43.09375 43.984375 \nQ 39.0625 48.390625 32.421875 48.390625 \nQ 24.90625 48.390625 20.390625 44.140625 \nQ 15.875 39.890625 15.1875 32.171875 \nz\n\" id=\"DejaVuSans-101\"/>\n       </defs>\n       <use xlink:href=\"#DejaVuSans-97\"/>\n       <use x=\"61.279297\" xlink:href=\"#DejaVuSans-112\"/>\n       <use x=\"124.755859\" xlink:href=\"#DejaVuSans-112\"/>\n       <use x=\"188.232422\" xlink:href=\"#DejaVuSans-108\"/>\n       <use x=\"216.015625\" xlink:href=\"#DejaVuSans-101\"/>\n      </g>\n     </g>\n    </g>\n    <g id=\"xtick_2\">\n     <g id=\"line2d_2\">\n      <g>\n       <use style=\"stroke:#000000;stroke-width:0.8;\" x=\"83.109773\" xlink:href=\"#mc09e12a0eb\" y=\"191.88\"/>\n      </g>\n     </g>\n     <g id=\"text_2\">\n      <!-- orange -->\n      <g transform=\"translate(65.511336 206.478438)scale(0.1 -0.1)\">\n       <defs>\n        <path d=\"M 30.609375 48.390625 \nQ 23.390625 48.390625 19.1875 42.75 \nQ 14.984375 37.109375 14.984375 27.296875 \nQ 14.984375 17.484375 19.15625 11.84375 \nQ 23.34375 6.203125 30.609375 6.203125 \nQ 37.796875 6.203125 41.984375 11.859375 \nQ 46.1875 17.53125 46.1875 27.296875 \nQ 46.1875 37.015625 41.984375 42.703125 \nQ 37.796875 48.390625 30.609375 48.390625 \nz\nM 30.609375 56 \nQ 42.328125 56 49.015625 48.375 \nQ 55.71875 40.765625 55.71875 27.296875 \nQ 55.71875 13.875 49.015625 6.21875 \nQ 42.328125 -1.421875 30.609375 -1.421875 \nQ 18.84375 -1.421875 12.171875 6.21875 \nQ 5.515625 13.875 5.515625 27.296875 \nQ 5.515625 40.765625 12.171875 48.375 \nQ 18.84375 56 30.609375 56 \nz\n\" id=\"DejaVuSans-111\"/>\n        <path d=\"M 41.109375 46.296875 \nQ 39.59375 47.171875 37.8125 47.578125 \nQ 36.03125 48 33.890625 48 \nQ 26.265625 48 22.1875 43.046875 \nQ 18.109375 38.09375 18.109375 28.8125 \nL 18.109375 0 \nL 9.078125 0 \nL 9.078125 54.6875 \nL 18.109375 54.6875 \nL 18.109375 46.1875 \nQ 20.953125 51.171875 25.484375 53.578125 \nQ 30.03125 56 36.53125 56 \nQ 37.453125 56 38.578125 55.875 \nQ 39.703125 55.765625 41.0625 55.515625 \nz\n\" id=\"DejaVuSans-114\"/>\n        <path d=\"M 54.890625 33.015625 \nL 54.890625 0 \nL 45.90625 0 \nL 45.90625 32.71875 \nQ 45.90625 40.484375 42.875 44.328125 \nQ 39.84375 48.1875 33.796875 48.1875 \nQ 26.515625 48.1875 22.3125 43.546875 \nQ 18.109375 38.921875 18.109375 30.90625 \nL 18.109375 0 \nL 9.078125 0 \nL 9.078125 54.6875 \nL 18.109375 54.6875 \nL 18.109375 46.1875 \nQ 21.34375 51.125 25.703125 53.5625 \nQ 30.078125 56 35.796875 56 \nQ 45.21875 56 50.046875 50.171875 \nQ 54.890625 44.34375 54.890625 33.015625 \nz\n\" id=\"DejaVuSans-110\"/>\n        <path d=\"M 45.40625 27.984375 \nQ 45.40625 37.75 41.375 43.109375 \nQ 37.359375 48.484375 30.078125 48.484375 \nQ 22.859375 48.484375 18.828125 43.109375 \nQ 14.796875 37.75 14.796875 27.984375 \nQ 14.796875 18.265625 18.828125 12.890625 \nQ 22.859375 7.515625 30.078125 7.515625 \nQ 37.359375 7.515625 41.375 12.890625 \nQ 45.40625 18.265625 45.40625 27.984375 \nz\nM 54.390625 6.78125 \nQ 54.390625 -7.171875 48.1875 -13.984375 \nQ 42 -20.796875 29.203125 -20.796875 \nQ 24.46875 -20.796875 20.265625 -20.09375 \nQ 16.0625 -19.390625 12.109375 -17.921875 \nL 12.109375 -9.1875 \nQ 16.0625 -11.328125 19.921875 -12.34375 \nQ 23.78125 -13.375 27.78125 -13.375 \nQ 36.625 -13.375 41.015625 -8.765625 \nQ 45.40625 -4.15625 45.40625 5.171875 \nL 45.40625 9.625 \nQ 42.625 4.78125 38.28125 2.390625 \nQ 33.9375 0 27.875 0 \nQ 17.828125 0 11.671875 7.65625 \nQ 5.515625 15.328125 5.515625 27.984375 \nQ 5.515625 40.671875 11.671875 48.328125 \nQ 17.828125 56 27.875 56 \nQ 33.9375 56 38.28125 53.609375 \nQ 42.625 51.21875 45.40625 46.390625 \nL 45.40625 54.6875 \nL 54.390625 54.6875 \nz\n\" id=\"DejaVuSans-103\"/>\n       </defs>\n       <use xlink:href=\"#DejaVuSans-111\"/>\n       <use x=\"61.181641\" xlink:href=\"#DejaVuSans-114\"/>\n       <use x=\"102.294922\" xlink:href=\"#DejaVuSans-97\"/>\n       <use x=\"163.574219\" xlink:href=\"#DejaVuSans-110\"/>\n       <use x=\"226.953125\" xlink:href=\"#DejaVuSans-103\"/>\n       <use x=\"290.429688\" xlink:href=\"#DejaVuSans-101\"/>\n      </g>\n     </g>\n    </g>\n    <g id=\"xtick_3\">\n     <g id=\"line2d_3\">\n      <g>\n       <use style=\"stroke:#000000;stroke-width:0.8;\" x=\"118.446109\" xlink:href=\"#mc09e12a0eb\" y=\"191.88\"/>\n      </g>\n     </g>\n     <g id=\"text_3\">\n      <!-- lemon -->\n      <g transform=\"translate(102.882046 206.478438)scale(0.1 -0.1)\">\n       <defs>\n        <path d=\"M 52 44.1875 \nQ 55.375 50.25 60.0625 53.125 \nQ 64.75 56 71.09375 56 \nQ 79.640625 56 84.28125 50.015625 \nQ 88.921875 44.046875 88.921875 33.015625 \nL 88.921875 0 \nL 79.890625 0 \nL 79.890625 32.71875 \nQ 79.890625 40.578125 77.09375 44.375 \nQ 74.3125 48.1875 68.609375 48.1875 \nQ 61.625 48.1875 57.5625 43.546875 \nQ 53.515625 38.921875 53.515625 30.90625 \nL 53.515625 0 \nL 44.484375 0 \nL 44.484375 32.71875 \nQ 44.484375 40.625 41.703125 44.40625 \nQ 38.921875 48.1875 33.109375 48.1875 \nQ 26.21875 48.1875 22.15625 43.53125 \nQ 18.109375 38.875 18.109375 30.90625 \nL 18.109375 0 \nL 9.078125 0 \nL 9.078125 54.6875 \nL 18.109375 54.6875 \nL 18.109375 46.1875 \nQ 21.1875 51.21875 25.484375 53.609375 \nQ 29.78125 56 35.6875 56 \nQ 41.65625 56 45.828125 52.96875 \nQ 50 49.953125 52 44.1875 \nz\n\" id=\"DejaVuSans-109\"/>\n       </defs>\n       <use xlink:href=\"#DejaVuSans-108\"/>\n       <use x=\"27.783203\" xlink:href=\"#DejaVuSans-101\"/>\n       <use x=\"89.306641\" xlink:href=\"#DejaVuSans-109\"/>\n       <use x=\"186.71875\" xlink:href=\"#DejaVuSans-111\"/>\n       <use x=\"247.900391\" xlink:href=\"#DejaVuSans-110\"/>\n      </g>\n     </g>\n    </g>\n    <g id=\"xtick_4\">\n     <g id=\"line2d_4\">\n      <g>\n       <use style=\"stroke:#000000;stroke-width:0.8;\" x=\"153.782444\" xlink:href=\"#mc09e12a0eb\" y=\"191.88\"/>\n      </g>\n     </g>\n     <g id=\"text_4\">\n      <!-- lime -->\n      <g transform=\"translate(143.057444 206.478438)scale(0.1 -0.1)\">\n       <defs>\n        <path d=\"M 9.421875 54.6875 \nL 18.40625 54.6875 \nL 18.40625 0 \nL 9.421875 0 \nz\nM 9.421875 75.984375 \nL 18.40625 75.984375 \nL 18.40625 64.59375 \nL 9.421875 64.59375 \nz\n\" id=\"DejaVuSans-105\"/>\n       </defs>\n       <use xlink:href=\"#DejaVuSans-108\"/>\n       <use x=\"27.783203\" xlink:href=\"#DejaVuSans-105\"/>\n       <use x=\"55.566406\" xlink:href=\"#DejaVuSans-109\"/>\n       <use x=\"152.978516\" xlink:href=\"#DejaVuSans-101\"/>\n      </g>\n     </g>\n    </g>\n   </g>\n   <g id=\"matplotlib.axis_2\">\n    <g id=\"ytick_1\">\n     <g id=\"line2d_5\">\n      <defs>\n       <path d=\"M 0 0 \nL -3.5 0 \n\" id=\"m06f9c5f930\" style=\"stroke:#000000;stroke-width:0.8;\"/>\n      </defs>\n      <g>\n       <use style=\"stroke:#000000;stroke-width:0.8;\" x=\"26.925\" xlink:href=\"#m06f9c5f930\" y=\"191.88\"/>\n      </g>\n     </g>\n     <g id=\"text_5\">\n      <!-- 0 -->\n      <g transform=\"translate(13.5625 195.679219)scale(0.1 -0.1)\">\n       <defs>\n        <path d=\"M 31.78125 66.40625 \nQ 24.171875 66.40625 20.328125 58.90625 \nQ 16.5 51.421875 16.5 36.375 \nQ 16.5 21.390625 20.328125 13.890625 \nQ 24.171875 6.390625 31.78125 6.390625 \nQ 39.453125 6.390625 43.28125 13.890625 \nQ 47.125 21.390625 47.125 36.375 \nQ 47.125 51.421875 43.28125 58.90625 \nQ 39.453125 66.40625 31.78125 66.40625 \nz\nM 31.78125 74.21875 \nQ 44.046875 74.21875 50.515625 64.515625 \nQ 56.984375 54.828125 56.984375 36.375 \nQ 56.984375 17.96875 50.515625 8.265625 \nQ 44.046875 -1.421875 31.78125 -1.421875 \nQ 19.53125 -1.421875 13.0625 8.265625 \nQ 6.59375 17.96875 6.59375 36.375 \nQ 6.59375 54.828125 13.0625 64.515625 \nQ 19.53125 74.21875 31.78125 74.21875 \nz\n\" id=\"DejaVuSans-48\"/>\n       </defs>\n       <use xlink:href=\"#DejaVuSans-48\"/>\n      </g>\n     </g>\n    </g>\n    <g id=\"ytick_2\">\n     <g id=\"line2d_6\">\n      <g>\n       <use style=\"stroke:#000000;stroke-width:0.8;\" x=\"26.925\" xlink:href=\"#m06f9c5f930\" y=\"153.051429\"/>\n      </g>\n     </g>\n     <g id=\"text_6\">\n      <!-- 5 -->\n      <g transform=\"translate(13.5625 156.850647)scale(0.1 -0.1)\">\n       <defs>\n        <path d=\"M 10.796875 72.90625 \nL 49.515625 72.90625 \nL 49.515625 64.59375 \nL 19.828125 64.59375 \nL 19.828125 46.734375 \nQ 21.96875 47.46875 24.109375 47.828125 \nQ 26.265625 48.1875 28.421875 48.1875 \nQ 40.625 48.1875 47.75 41.5 \nQ 54.890625 34.8125 54.890625 23.390625 \nQ 54.890625 11.625 47.5625 5.09375 \nQ 40.234375 -1.421875 26.90625 -1.421875 \nQ 22.3125 -1.421875 17.546875 -0.640625 \nQ 12.796875 0.140625 7.71875 1.703125 \nL 7.71875 11.625 \nQ 12.109375 9.234375 16.796875 8.0625 \nQ 21.484375 6.890625 26.703125 6.890625 \nQ 35.15625 6.890625 40.078125 11.328125 \nQ 45.015625 15.765625 45.015625 23.390625 \nQ 45.015625 31 40.078125 35.4375 \nQ 35.15625 39.890625 26.703125 39.890625 \nQ 22.75 39.890625 18.8125 39.015625 \nQ 14.890625 38.140625 10.796875 36.28125 \nz\n\" id=\"DejaVuSans-53\"/>\n       </defs>\n       <use xlink:href=\"#DejaVuSans-53\"/>\n      </g>\n     </g>\n    </g>\n    <g id=\"ytick_3\">\n     <g id=\"line2d_7\">\n      <g>\n       <use style=\"stroke:#000000;stroke-width:0.8;\" x=\"26.925\" xlink:href=\"#m06f9c5f930\" y=\"114.222857\"/>\n      </g>\n     </g>\n     <g id=\"text_7\">\n      <!-- 10 -->\n      <g transform=\"translate(7.2 118.022076)scale(0.1 -0.1)\">\n       <defs>\n        <path d=\"M 12.40625 8.296875 \nL 28.515625 8.296875 \nL 28.515625 63.921875 \nL 10.984375 60.40625 \nL 10.984375 69.390625 \nL 28.421875 72.90625 \nL 38.28125 72.90625 \nL 38.28125 8.296875 \nL 54.390625 8.296875 \nL 54.390625 0 \nL 12.40625 0 \nz\n\" id=\"DejaVuSans-49\"/>\n       </defs>\n       <use xlink:href=\"#DejaVuSans-49\"/>\n       <use x=\"63.623047\" xlink:href=\"#DejaVuSans-48\"/>\n      </g>\n     </g>\n    </g>\n    <g id=\"ytick_4\">\n     <g id=\"line2d_8\">\n      <g>\n       <use style=\"stroke:#000000;stroke-width:0.8;\" x=\"26.925\" xlink:href=\"#m06f9c5f930\" y=\"75.394286\"/>\n      </g>\n     </g>\n     <g id=\"text_8\">\n      <!-- 15 -->\n      <g transform=\"translate(7.2 79.193504)scale(0.1 -0.1)\">\n       <use xlink:href=\"#DejaVuSans-49\"/>\n       <use x=\"63.623047\" xlink:href=\"#DejaVuSans-53\"/>\n      </g>\n     </g>\n    </g>\n    <g id=\"ytick_5\">\n     <g id=\"line2d_9\">\n      <g>\n       <use style=\"stroke:#000000;stroke-width:0.8;\" x=\"26.925\" xlink:href=\"#m06f9c5f930\" y=\"36.565714\"/>\n      </g>\n     </g>\n     <g id=\"text_9\">\n      <!-- 20 -->\n      <g transform=\"translate(7.2 40.364933)scale(0.1 -0.1)\">\n       <defs>\n        <path d=\"M 19.1875 8.296875 \nL 53.609375 8.296875 \nL 53.609375 0 \nL 7.328125 0 \nL 7.328125 8.296875 \nQ 12.9375 14.109375 22.625 23.890625 \nQ 32.328125 33.6875 34.8125 36.53125 \nQ 39.546875 41.84375 41.421875 45.53125 \nQ 43.3125 49.21875 43.3125 52.78125 \nQ 43.3125 58.59375 39.234375 62.25 \nQ 35.15625 65.921875 28.609375 65.921875 \nQ 23.96875 65.921875 18.8125 64.3125 \nQ 13.671875 62.703125 7.8125 59.421875 \nL 7.8125 69.390625 \nQ 13.765625 71.78125 18.9375 73 \nQ 24.125 74.21875 28.421875 74.21875 \nQ 39.75 74.21875 46.484375 68.546875 \nQ 53.21875 62.890625 53.21875 53.421875 \nQ 53.21875 48.921875 51.53125 44.890625 \nQ 49.859375 40.875 45.40625 35.40625 \nQ 44.1875 33.984375 37.640625 27.21875 \nQ 31.109375 20.453125 19.1875 8.296875 \nz\n\" id=\"DejaVuSans-50\"/>\n       </defs>\n       <use xlink:href=\"#DejaVuSans-50\"/>\n       <use x=\"63.623047\" xlink:href=\"#DejaVuSans-48\"/>\n      </g>\n     </g>\n    </g>\n   </g>\n   <g id=\"patch_7\">\n    <path d=\"M 26.925 191.88 \nL 26.925 28.8 \n\" style=\"fill:none;stroke:#000000;stroke-linecap:square;stroke-linejoin:miter;stroke-width:0.8;\"/>\n   </g>\n   <g id=\"patch_8\">\n    <path d=\"M 174.630882 191.88 \nL 174.630882 28.8 \n\" style=\"fill:none;stroke:#000000;stroke-linecap:square;stroke-linejoin:miter;stroke-width:0.8;\"/>\n   </g>\n   <g id=\"patch_9\">\n    <path d=\"M 26.925 191.88 \nL 174.630882 191.88 \n\" style=\"fill:none;stroke:#000000;stroke-linecap:square;stroke-linejoin:miter;stroke-width:0.8;\"/>\n   </g>\n   <g id=\"patch_10\">\n    <path d=\"M 26.925 28.8 \nL 174.630882 28.8 \n\" style=\"fill:none;stroke:#000000;stroke-linecap:square;stroke-linejoin:miter;stroke-width:0.8;\"/>\n   </g>\n  </g>\n  <g id=\"axes_2\">\n   <g id=\"patch_11\">\n    <path d=\"M 204.172059 191.88 \nL 351.877941 191.88 \nL 351.877941 28.8 \nL 204.172059 28.8 \nz\n\" style=\"fill:#ffffff;\"/>\n   </g>\n   <g id=\"PathCollection_1\">\n    <defs>\n     <path d=\"M 0 3 \nC 0.795609 3 1.55874 2.683901 2.12132 2.12132 \nC 2.683901 1.55874 3 0.795609 3 0 \nC 3 -0.795609 2.683901 -1.55874 2.12132 -2.12132 \nC 1.55874 -2.683901 0.795609 -3 0 -3 \nC -0.795609 -3 -1.55874 -2.683901 -2.12132 -2.12132 \nC -2.683901 -1.55874 -3 -0.795609 -3 0 \nC -3 0.795609 -2.683901 1.55874 -2.12132 2.12132 \nC -1.55874 2.683901 -0.795609 3 0 3 \nz\n\" id=\"m9286181705\" style=\"stroke:#1f77b4;\"/>\n    </defs>\n    <g clip-path=\"url(#p095fa83321)\">\n     <use style=\"fill:#1f77b4;stroke:#1f77b4;\" x=\"210.885963\" xlink:href=\"#m9286181705\" y=\"114.222857\"/>\n     <use style=\"fill:#1f77b4;stroke:#1f77b4;\" x=\"255.645321\" xlink:href=\"#m9286181705\" y=\"75.394286\"/>\n     <use style=\"fill:#1f77b4;stroke:#1f77b4;\" x=\"300.404679\" xlink:href=\"#m9286181705\" y=\"153.051429\"/>\n     <use style=\"fill:#1f77b4;stroke:#1f77b4;\" x=\"345.164037\" xlink:href=\"#m9286181705\" y=\"36.565714\"/>\n    </g>\n   </g>\n   <g id=\"matplotlib.axis_3\">\n    <g id=\"xtick_5\">\n     <g id=\"line2d_10\">\n      <g>\n       <use style=\"stroke:#000000;stroke-width:0.8;\" x=\"210.885963\" xlink:href=\"#mc09e12a0eb\" y=\"191.88\"/>\n      </g>\n     </g>\n     <g id=\"text_10\">\n      <!-- apple -->\n      <g transform=\"translate(197.007838 206.478438)scale(0.1 -0.1)\">\n       <use xlink:href=\"#DejaVuSans-97\"/>\n       <use x=\"61.279297\" xlink:href=\"#DejaVuSans-112\"/>\n       <use x=\"124.755859\" xlink:href=\"#DejaVuSans-112\"/>\n       <use x=\"188.232422\" xlink:href=\"#DejaVuSans-108\"/>\n       <use x=\"216.015625\" xlink:href=\"#DejaVuSans-101\"/>\n      </g>\n     </g>\n    </g>\n    <g id=\"xtick_6\">\n     <g id=\"line2d_11\">\n      <g>\n       <use style=\"stroke:#000000;stroke-width:0.8;\" x=\"255.645321\" xlink:href=\"#mc09e12a0eb\" y=\"191.88\"/>\n      </g>\n     </g>\n     <g id=\"text_11\">\n      <!-- orange -->\n      <g transform=\"translate(238.046883 206.478438)scale(0.1 -0.1)\">\n       <use xlink:href=\"#DejaVuSans-111\"/>\n       <use x=\"61.181641\" xlink:href=\"#DejaVuSans-114\"/>\n       <use x=\"102.294922\" xlink:href=\"#DejaVuSans-97\"/>\n       <use x=\"163.574219\" xlink:href=\"#DejaVuSans-110\"/>\n       <use x=\"226.953125\" xlink:href=\"#DejaVuSans-103\"/>\n       <use x=\"290.429688\" xlink:href=\"#DejaVuSans-101\"/>\n      </g>\n     </g>\n    </g>\n    <g id=\"xtick_7\">\n     <g id=\"line2d_12\">\n      <g>\n       <use style=\"stroke:#000000;stroke-width:0.8;\" x=\"300.404679\" xlink:href=\"#mc09e12a0eb\" y=\"191.88\"/>\n      </g>\n     </g>\n     <g id=\"text_12\">\n      <!-- lemon -->\n      <g transform=\"translate(284.840617 206.478438)scale(0.1 -0.1)\">\n       <use xlink:href=\"#DejaVuSans-108\"/>\n       <use x=\"27.783203\" xlink:href=\"#DejaVuSans-101\"/>\n       <use x=\"89.306641\" xlink:href=\"#DejaVuSans-109\"/>\n       <use x=\"186.71875\" xlink:href=\"#DejaVuSans-111\"/>\n       <use x=\"247.900391\" xlink:href=\"#DejaVuSans-110\"/>\n      </g>\n     </g>\n    </g>\n    <g id=\"xtick_8\">\n     <g id=\"line2d_13\">\n      <g>\n       <use style=\"stroke:#000000;stroke-width:0.8;\" x=\"345.164037\" xlink:href=\"#mc09e12a0eb\" y=\"191.88\"/>\n      </g>\n     </g>\n     <g id=\"text_13\">\n      <!-- lime -->\n      <g transform=\"translate(334.439037 206.478438)scale(0.1 -0.1)\">\n       <use xlink:href=\"#DejaVuSans-108\"/>\n       <use x=\"27.783203\" xlink:href=\"#DejaVuSans-105\"/>\n       <use x=\"55.566406\" xlink:href=\"#DejaVuSans-109\"/>\n       <use x=\"152.978516\" xlink:href=\"#DejaVuSans-101\"/>\n      </g>\n     </g>\n    </g>\n   </g>\n   <g id=\"matplotlib.axis_4\">\n    <g id=\"ytick_6\">\n     <g id=\"line2d_14\">\n      <g>\n       <use style=\"stroke:#000000;stroke-width:0.8;\" x=\"204.172059\" xlink:href=\"#m06f9c5f930\" y=\"191.88\"/>\n      </g>\n     </g>\n    </g>\n    <g id=\"ytick_7\">\n     <g id=\"line2d_15\">\n      <g>\n       <use style=\"stroke:#000000;stroke-width:0.8;\" x=\"204.172059\" xlink:href=\"#m06f9c5f930\" y=\"153.051429\"/>\n      </g>\n     </g>\n    </g>\n    <g id=\"ytick_8\">\n     <g id=\"line2d_16\">\n      <g>\n       <use style=\"stroke:#000000;stroke-width:0.8;\" x=\"204.172059\" xlink:href=\"#m06f9c5f930\" y=\"114.222857\"/>\n      </g>\n     </g>\n    </g>\n    <g id=\"ytick_9\">\n     <g id=\"line2d_17\">\n      <g>\n       <use style=\"stroke:#000000;stroke-width:0.8;\" x=\"204.172059\" xlink:href=\"#m06f9c5f930\" y=\"75.394286\"/>\n      </g>\n     </g>\n    </g>\n    <g id=\"ytick_10\">\n     <g id=\"line2d_18\">\n      <g>\n       <use style=\"stroke:#000000;stroke-width:0.8;\" x=\"204.172059\" xlink:href=\"#m06f9c5f930\" y=\"36.565714\"/>\n      </g>\n     </g>\n    </g>\n   </g>\n   <g id=\"patch_12\">\n    <path d=\"M 204.172059 191.88 \nL 204.172059 28.8 \n\" style=\"fill:none;stroke:#000000;stroke-linecap:square;stroke-linejoin:miter;stroke-width:0.8;\"/>\n   </g>\n   <g id=\"patch_13\">\n    <path d=\"M 351.877941 191.88 \nL 351.877941 28.8 \n\" style=\"fill:none;stroke:#000000;stroke-linecap:square;stroke-linejoin:miter;stroke-width:0.8;\"/>\n   </g>\n   <g id=\"patch_14\">\n    <path d=\"M 204.172059 191.88 \nL 351.877941 191.88 \n\" style=\"fill:none;stroke:#000000;stroke-linecap:square;stroke-linejoin:miter;stroke-width:0.8;\"/>\n   </g>\n   <g id=\"patch_15\">\n    <path d=\"M 204.172059 28.8 \nL 351.877941 28.8 \n\" style=\"fill:none;stroke:#000000;stroke-linecap:square;stroke-linejoin:miter;stroke-width:0.8;\"/>\n   </g>\n  </g>\n  <g id=\"axes_3\">\n   <g id=\"patch_16\">\n    <path d=\"M 381.419118 191.88 \nL 529.125 191.88 \nL 529.125 28.8 \nL 381.419118 28.8 \nz\n\" style=\"fill:#ffffff;\"/>\n   </g>\n   <g id=\"matplotlib.axis_5\">\n    <g id=\"xtick_9\">\n     <g id=\"line2d_19\">\n      <g>\n       <use style=\"stroke:#000000;stroke-width:0.8;\" x=\"388.133021\" xlink:href=\"#mc09e12a0eb\" y=\"191.88\"/>\n      </g>\n     </g>\n     <g id=\"text_14\">\n      <!-- apple -->\n      <g transform=\"translate(374.254896 206.478438)scale(0.1 -0.1)\">\n       <use xlink:href=\"#DejaVuSans-97\"/>\n       <use x=\"61.279297\" xlink:href=\"#DejaVuSans-112\"/>\n       <use x=\"124.755859\" xlink:href=\"#DejaVuSans-112\"/>\n       <use x=\"188.232422\" xlink:href=\"#DejaVuSans-108\"/>\n       <use x=\"216.015625\" xlink:href=\"#DejaVuSans-101\"/>\n      </g>\n     </g>\n    </g>\n    <g id=\"xtick_10\">\n     <g id=\"line2d_20\">\n      <g>\n       <use style=\"stroke:#000000;stroke-width:0.8;\" x=\"432.89238\" xlink:href=\"#mc09e12a0eb\" y=\"191.88\"/>\n      </g>\n     </g>\n     <g id=\"text_15\">\n      <!-- orange -->\n      <g transform=\"translate(415.293942 206.478438)scale(0.1 -0.1)\">\n       <use xlink:href=\"#DejaVuSans-111\"/>\n       <use x=\"61.181641\" xlink:href=\"#DejaVuSans-114\"/>\n       <use x=\"102.294922\" xlink:href=\"#DejaVuSans-97\"/>\n       <use x=\"163.574219\" xlink:href=\"#DejaVuSans-110\"/>\n       <use x=\"226.953125\" xlink:href=\"#DejaVuSans-103\"/>\n       <use x=\"290.429688\" xlink:href=\"#DejaVuSans-101\"/>\n      </g>\n     </g>\n    </g>\n    <g id=\"xtick_11\">\n     <g id=\"line2d_21\">\n      <g>\n       <use style=\"stroke:#000000;stroke-width:0.8;\" x=\"477.651738\" xlink:href=\"#mc09e12a0eb\" y=\"191.88\"/>\n      </g>\n     </g>\n     <g id=\"text_16\">\n      <!-- lemon -->\n      <g transform=\"translate(462.087675 206.478438)scale(0.1 -0.1)\">\n       <use xlink:href=\"#DejaVuSans-108\"/>\n       <use x=\"27.783203\" xlink:href=\"#DejaVuSans-101\"/>\n       <use x=\"89.306641\" xlink:href=\"#DejaVuSans-109\"/>\n       <use x=\"186.71875\" xlink:href=\"#DejaVuSans-111\"/>\n       <use x=\"247.900391\" xlink:href=\"#DejaVuSans-110\"/>\n      </g>\n     </g>\n    </g>\n    <g id=\"xtick_12\">\n     <g id=\"line2d_22\">\n      <g>\n       <use style=\"stroke:#000000;stroke-width:0.8;\" x=\"522.411096\" xlink:href=\"#mc09e12a0eb\" y=\"191.88\"/>\n      </g>\n     </g>\n     <g id=\"text_17\">\n      <!-- lime -->\n      <g transform=\"translate(511.686096 206.478438)scale(0.1 -0.1)\">\n       <use xlink:href=\"#DejaVuSans-108\"/>\n       <use x=\"27.783203\" xlink:href=\"#DejaVuSans-105\"/>\n       <use x=\"55.566406\" xlink:href=\"#DejaVuSans-109\"/>\n       <use x=\"152.978516\" xlink:href=\"#DejaVuSans-101\"/>\n      </g>\n     </g>\n    </g>\n   </g>\n   <g id=\"matplotlib.axis_6\">\n    <g id=\"ytick_11\">\n     <g id=\"line2d_23\">\n      <g>\n       <use style=\"stroke:#000000;stroke-width:0.8;\" x=\"381.419118\" xlink:href=\"#m06f9c5f930\" y=\"191.88\"/>\n      </g>\n     </g>\n    </g>\n    <g id=\"ytick_12\">\n     <g id=\"line2d_24\">\n      <g>\n       <use style=\"stroke:#000000;stroke-width:0.8;\" x=\"381.419118\" xlink:href=\"#m06f9c5f930\" y=\"153.051429\"/>\n      </g>\n     </g>\n    </g>\n    <g id=\"ytick_13\">\n     <g id=\"line2d_25\">\n      <g>\n       <use style=\"stroke:#000000;stroke-width:0.8;\" x=\"381.419118\" xlink:href=\"#m06f9c5f930\" y=\"114.222857\"/>\n      </g>\n     </g>\n    </g>\n    <g id=\"ytick_14\">\n     <g id=\"line2d_26\">\n      <g>\n       <use style=\"stroke:#000000;stroke-width:0.8;\" x=\"381.419118\" xlink:href=\"#m06f9c5f930\" y=\"75.394286\"/>\n      </g>\n     </g>\n    </g>\n    <g id=\"ytick_15\">\n     <g id=\"line2d_27\">\n      <g>\n       <use style=\"stroke:#000000;stroke-width:0.8;\" x=\"381.419118\" xlink:href=\"#m06f9c5f930\" y=\"36.565714\"/>\n      </g>\n     </g>\n    </g>\n   </g>\n   <g id=\"line2d_28\">\n    <path clip-path=\"url(#p3aae151fd7)\" d=\"M 388.133021 114.222857 \nL 432.89238 75.394286 \nL 477.651738 153.051429 \nL 522.411096 36.565714 \n\" style=\"fill:none;stroke:#1f77b4;stroke-linecap:square;stroke-width:1.5;\"/>\n   </g>\n   <g id=\"patch_17\">\n    <path d=\"M 381.419118 191.88 \nL 381.419118 28.8 \n\" style=\"fill:none;stroke:#000000;stroke-linecap:square;stroke-linejoin:miter;stroke-width:0.8;\"/>\n   </g>\n   <g id=\"patch_18\">\n    <path d=\"M 529.125 191.88 \nL 529.125 28.8 \n\" style=\"fill:none;stroke:#000000;stroke-linecap:square;stroke-linejoin:miter;stroke-width:0.8;\"/>\n   </g>\n   <g id=\"patch_19\">\n    <path d=\"M 381.419118 191.88 \nL 529.125 191.88 \n\" style=\"fill:none;stroke:#000000;stroke-linecap:square;stroke-linejoin:miter;stroke-width:0.8;\"/>\n   </g>\n   <g id=\"patch_20\">\n    <path d=\"M 381.419118 28.8 \nL 529.125 28.8 \n\" style=\"fill:none;stroke:#000000;stroke-linecap:square;stroke-linejoin:miter;stroke-width:0.8;\"/>\n   </g>\n  </g>\n  <g id=\"text_18\">\n   <!-- Categorical Plotting -->\n   <g transform=\"translate(210.912188 16.318125)scale(0.12 -0.12)\">\n    <defs>\n     <path d=\"M 64.40625 67.28125 \nL 64.40625 56.890625 \nQ 59.421875 61.53125 53.78125 63.8125 \nQ 48.140625 66.109375 41.796875 66.109375 \nQ 29.296875 66.109375 22.65625 58.46875 \nQ 16.015625 50.828125 16.015625 36.375 \nQ 16.015625 21.96875 22.65625 14.328125 \nQ 29.296875 6.6875 41.796875 6.6875 \nQ 48.140625 6.6875 53.78125 8.984375 \nQ 59.421875 11.28125 64.40625 15.921875 \nL 64.40625 5.609375 \nQ 59.234375 2.09375 53.4375 0.328125 \nQ 47.65625 -1.421875 41.21875 -1.421875 \nQ 24.65625 -1.421875 15.125 8.703125 \nQ 5.609375 18.84375 5.609375 36.375 \nQ 5.609375 53.953125 15.125 64.078125 \nQ 24.65625 74.21875 41.21875 74.21875 \nQ 47.75 74.21875 53.53125 72.484375 \nQ 59.328125 70.75 64.40625 67.28125 \nz\n\" id=\"DejaVuSans-67\"/>\n     <path d=\"M 18.3125 70.21875 \nL 18.3125 54.6875 \nL 36.8125 54.6875 \nL 36.8125 47.703125 \nL 18.3125 47.703125 \nL 18.3125 18.015625 \nQ 18.3125 11.328125 20.140625 9.421875 \nQ 21.96875 7.515625 27.59375 7.515625 \nL 36.8125 7.515625 \nL 36.8125 0 \nL 27.59375 0 \nQ 17.1875 0 13.234375 3.875 \nQ 9.28125 7.765625 9.28125 18.015625 \nL 9.28125 47.703125 \nL 2.6875 47.703125 \nL 2.6875 54.6875 \nL 9.28125 54.6875 \nL 9.28125 70.21875 \nz\n\" id=\"DejaVuSans-116\"/>\n     <path d=\"M 48.78125 52.59375 \nL 48.78125 44.1875 \nQ 44.96875 46.296875 41.140625 47.34375 \nQ 37.3125 48.390625 33.40625 48.390625 \nQ 24.65625 48.390625 19.8125 42.84375 \nQ 14.984375 37.3125 14.984375 27.296875 \nQ 14.984375 17.28125 19.8125 11.734375 \nQ 24.65625 6.203125 33.40625 6.203125 \nQ 37.3125 6.203125 41.140625 7.25 \nQ 44.96875 8.296875 48.78125 10.40625 \nL 48.78125 2.09375 \nQ 45.015625 0.34375 40.984375 -0.53125 \nQ 36.96875 -1.421875 32.421875 -1.421875 \nQ 20.0625 -1.421875 12.78125 6.34375 \nQ 5.515625 14.109375 5.515625 27.296875 \nQ 5.515625 40.671875 12.859375 48.328125 \nQ 20.21875 56 33.015625 56 \nQ 37.15625 56 41.109375 55.140625 \nQ 45.0625 54.296875 48.78125 52.59375 \nz\n\" id=\"DejaVuSans-99\"/>\n     <path id=\"DejaVuSans-32\"/>\n     <path d=\"M 19.671875 64.796875 \nL 19.671875 37.40625 \nL 32.078125 37.40625 \nQ 38.96875 37.40625 42.71875 40.96875 \nQ 46.484375 44.53125 46.484375 51.125 \nQ 46.484375 57.671875 42.71875 61.234375 \nQ 38.96875 64.796875 32.078125 64.796875 \nz\nM 9.8125 72.90625 \nL 32.078125 72.90625 \nQ 44.34375 72.90625 50.609375 67.359375 \nQ 56.890625 61.8125 56.890625 51.125 \nQ 56.890625 40.328125 50.609375 34.8125 \nQ 44.34375 29.296875 32.078125 29.296875 \nL 19.671875 29.296875 \nL 19.671875 0 \nL 9.8125 0 \nz\n\" id=\"DejaVuSans-80\"/>\n    </defs>\n    <use xlink:href=\"#DejaVuSans-67\"/>\n    <use x=\"69.824219\" xlink:href=\"#DejaVuSans-97\"/>\n    <use x=\"131.103516\" xlink:href=\"#DejaVuSans-116\"/>\n    <use x=\"170.3125\" xlink:href=\"#DejaVuSans-101\"/>\n    <use x=\"231.835938\" xlink:href=\"#DejaVuSans-103\"/>\n    <use x=\"295.3125\" xlink:href=\"#DejaVuSans-111\"/>\n    <use x=\"356.494141\" xlink:href=\"#DejaVuSans-114\"/>\n    <use x=\"397.607422\" xlink:href=\"#DejaVuSans-105\"/>\n    <use x=\"425.390625\" xlink:href=\"#DejaVuSans-99\"/>\n    <use x=\"480.371094\" xlink:href=\"#DejaVuSans-97\"/>\n    <use x=\"541.650391\" xlink:href=\"#DejaVuSans-108\"/>\n    <use x=\"569.433594\" xlink:href=\"#DejaVuSans-32\"/>\n    <use x=\"601.220703\" xlink:href=\"#DejaVuSans-80\"/>\n    <use x=\"661.523438\" xlink:href=\"#DejaVuSans-108\"/>\n    <use x=\"689.306641\" xlink:href=\"#DejaVuSans-111\"/>\n    <use x=\"750.488281\" xlink:href=\"#DejaVuSans-116\"/>\n    <use x=\"789.697266\" xlink:href=\"#DejaVuSans-116\"/>\n    <use x=\"828.90625\" xlink:href=\"#DejaVuSans-105\"/>\n    <use x=\"856.689453\" xlink:href=\"#DejaVuSans-110\"/>\n    <use x=\"920.068359\" xlink:href=\"#DejaVuSans-103\"/>\n   </g>\n  </g>\n </g>\n <defs>\n  <clipPath id=\"pf223cd6ddd\">\n   <rect height=\"163.08\" width=\"147.705882\" x=\"26.925\" y=\"28.8\"/>\n  </clipPath>\n  <clipPath id=\"p095fa83321\">\n   <rect height=\"163.08\" width=\"147.705882\" x=\"204.172059\" y=\"28.8\"/>\n  </clipPath>\n  <clipPath id=\"p3aae151fd7\">\n   <rect height=\"163.08\" width=\"147.705882\" x=\"381.419118\" y=\"28.8\"/>\n  </clipPath>\n </defs>\n</svg>\n",
      "image/png": "[encoded data removed]"
     },
     "metadata": {
      "needs_background": "light"
     }
    }
   ],
   "source": [
    "import random\n",
    "import numpy as np\n",
    "import pandas as pd\n",
    "import matplotlib.pyplot as plt\n",
    "\n",
    "arreglo1=np.random.randint(1,11,(1,100))\n",
    "arreglo2=np.random.randint(11,21,(1,100))\n",
    "ncontados1=[5,6,8]\n",
    "ncontados2=[14,66,19]\n",
    "frec1=[]\n",
    "frec2=[]\n",
    "for i in range (len(ncontados1)):\n",
    "    frec1.append([0]*len(ncontados1))\n",
    "    frec1[i]=np.count_nonzero(arreglo1==ncontados1[i])\n",
    "for i in range (len(ncontados2)):\n",
    "    frec2.append([0]*(len(ncontados2)))\n",
    "    frec2[i]=np.count_nonzero(arreglo2==ncontados2[i])\n",
    "ncontados=ncontados1 + ncontados2\n",
    "frecuencia=frec1 + frec2\n",
    "print (ncontados,frecuencia)\n",
    "\n",
    "data = {'apple': 10, 'orange': 15, 'lemon': 5, 'lime': 20}\n",
    "names = list(data.keys())\n",
    "values = list(data.values())\n",
    "\n",
    "fig, axs = plt.subplots(1, 3, figsize=(9, 3), sharey=True)\n",
    "axs[0].bar(ncontados, frecuencia)\n",
    "fig.suptitle('Categorical Plotting')"
   ]
  },
  {
   "cell_type": "markdown",
   "metadata": {},
   "source": [
    "### 2.3 crea un diagrama de barras para el vector fusionado con los 3 elementos más repetidos, sin contar la moda."
   ]
  },
  {
   "cell_type": "code",
   "execution_count": null,
   "metadata": {},
   "outputs": [],
   "source": []
  },
  {
   "cell_type": "markdown",
   "metadata": {},
   "source": [
    "# BLOQUE 3: CARGA DE FICHEROS Y MODELIZACION.\n",
    "\n",
    "Tenemos un fichero llamado **data_examen_sanit** del cual queremos realizar una modelizacion mediante un **arbol de decisión** y una **regresión logística**.\n",
    "La columna objetivo de la tabla se llama <font color=\"#9E1B32\">**target**</font>, y el resto de columnas actuan como input para predecir el Target"
   ]
  },
  {
   "cell_type": "markdown",
   "metadata": {},
   "source": [
    "### 3.1 Cargue dicho fichero y prepara los datos para la modelización. Con una proporcion 70-30 para los conjuntos train y test. Obtén los estadisticos más importantes para las variables del conjunto de datos"
   ]
  },
  {
   "cell_type": "code",
   "execution_count": null,
   "metadata": {},
   "outputs": [],
   "source": []
  },
  {
   "cell_type": "markdown",
   "metadata": {},
   "source": [
    "### 3.2 Entrene y evalue los modelos. Arbol y reg. logística"
   ]
  },
  {
   "cell_type": "code",
   "execution_count": null,
   "metadata": {},
   "outputs": [],
   "source": []
  },
  {
   "cell_type": "markdown",
   "metadata": {},
   "source": [
    "### 3.3 Proponga un método para comparar ambos modelos (ej: Curva ROC)"
   ]
  },
  {
   "cell_type": "code",
   "execution_count": null,
   "metadata": {},
   "outputs": [],
   "source": []
  }
 ],
 "metadata": {
  "kernelspec": {
   "name": "python3",
   "display_name": "Python 3.9.5 64-bit"
  },
  "language_info": {
   "codemirror_mode": {
    "name": "ipython",
    "version": 3
   },
   "file_extension": ".py",
   "mimetype": "text/x-python",
   "name": "python",
   "nbconvert_exporter": "python",
   "pygments_lexer": "ipython3",
   "version": "3.9.5"
  },
  "interpreter": {
   "hash": "916dbcbb3f70747c44a77c7bcd40155683ae19c65e1c03b4aa3499c5328201f1"
  }
 },
 "nbformat": 4,
 "nbformat_minor": 2
}